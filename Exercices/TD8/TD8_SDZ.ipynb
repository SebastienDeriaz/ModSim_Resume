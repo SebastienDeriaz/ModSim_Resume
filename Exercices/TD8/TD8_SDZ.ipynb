{
 "cells": [
  {
   "cell_type": "code",
   "execution_count": 86,
   "metadata": {},
   "outputs": [],
   "source": [
    "import numpy as np\n",
    "from numpy import pi, sqrt\n",
    "import control\n",
    "from control import matlab"
   ]
  },
  {
   "cell_type": "markdown",
   "metadata": {},
   "source": [
    "![picture 1](0a1cea79ee38a9b462b6e5691e73c2f0d5b6328cee9285bbc72ee20383e786e1.png)  \n"
   ]
  },
  {
   "cell_type": "markdown",
   "metadata": {},
   "source": [
    "![picture 2](6eabcd7fb450aaa0223e4f7b27111b3cb0bcfee523d36a00c6c79460cd4d72ed.png)  \n"
   ]
  },
  {
   "cell_type": "markdown",
   "metadata": {},
   "source": [
    "Bac 1\n",
    "$$\\frac{dV1}{dt}=q_e-q_{12}$$\n",
    "Bac 2\n",
    "$$\\frac{dV2}{dt}=q_{12}-q_{f2}-q_{23}$$\n",
    "Bac 3\n",
    "$$\\frac{dV3}{dt}=q_{23}-q_{f3}$$"
   ]
  },
  {
   "cell_type": "markdown",
   "metadata": {},
   "source": [
    "![picture 3](8f955475a4fa57b548c8acb10e43316fbc766fe3ac13c95f55994807918c49fc.png)  \n"
   ]
  },
  {
   "cell_type": "markdown",
   "metadata": {},
   "source": [
    "On commence par poser les équations\n",
    "$$q_e-q_{12}=0\\longrightarrow x_1-x_2=\\left(\\frac{q_e}{q_{12}}\\right)^2\\qquad q_e=q_{12}$$\n",
    "$$q_{12}-q_{f2}-q_{23}=0$$\n",
    "$$q_{23}-q_{f3}=0\\longrightarrow x_2=\\left(\\frac{a_{f}^2}{a_{23}^2}+1\\right)x_3$$\n",
    "\n",
    "On remplace les équations 1 et 3 dans l'équation 2\n",
    "$$q_{e}-a_f\\sqrt{x_2}-a_{23}\\sqrt{x_2-x_3}=0$$\n",
    "$$a_f\\sqrt{x_2}+a_{23}\\sqrt{x_2-x_3}=q_e$$\n",
    "On remplace par l'expression de $x_2$ trouvée avec l'équation 3\n",
    "$$a_f\\sqrt{\\left(\\frac{a_{f}^2}{a_{23}^2}+1\\right)x_3}+a_{23}\\sqrt{\\left(\\frac{a_{f}^2}{a_{23}^2}+1\\right)x_3-x_3}=q_e$$\n",
    "$$a_f\\sqrt{\\left(\\frac{a_{f}^2}{a_{23}^2}+1\\right)}\\sqrt{x_3}+a_{23}\\sqrt{\\left(\\frac{a_{f}^2}{a_{23}^2}\\right)}\\sqrt{x_3}=q_e$$\n",
    "$$\\boxed{x_3=\\frac{q_e^2}{\\left(a_f\\sqrt{\\frac{a_f^2}{a_{23}^2}+1}+a_{23}\\sqrt{\\frac{a_f^2}{a_{23}^2}}\\right)}}$$\n",
    "\n",
    "Puis on calcule simplement les valeurs\n",
    "$$x_3=0.1886$$\n",
    "$$x_2=0.2219$$\n",
    "$$x_1=0.2676$$\n"
   ]
  },
  {
   "cell_type": "code",
   "execution_count": 42,
   "metadata": {},
   "outputs": [
    {
     "name": "stdout",
     "output_type": "stream",
     "text": [
      "x1 : 0.2676 x2 : 0.2219 x3 : 0.1886\n"
     ]
    }
   ],
   "source": [
    "aD = 0.72\n",
    "g = 9.81\n",
    "qe = 100/1000 / 3600\n",
    "S = 0.013\n",
    "\n",
    "S12 = pi*(7.2e-3/2)**2\n",
    "S23 = pi*(5.4e-3/2)**2 #ok\n",
    "Sf = pi*(3.5e-3/2)**2 #ok\n",
    "\n",
    "af = aD * Sf * sqrt(2*g)\n",
    "a23 = aD * S23 * sqrt(2*g)\n",
    "a12 = aD * S12 * sqrt(2*g)\n",
    "\n",
    "x3eq = qe**2/(af*sqrt(af**2/a23**2+1) + a23*sqrt((af**2)/a23**2))**2\n",
    "x2eq = (af**2/a23**2+1)*x3eq\n",
    "x1eq = (qe / a12)**2 + x2eq\n",
    "print(f\"x1 : {x1eq:.4f} x2 : {x2eq:.4f} x3 : {x3eq:.4f}\")"
   ]
  },
  {
   "cell_type": "markdown",
   "metadata": {},
   "source": [
    "![picture 4](4f6561f85d6e42be69aac193b14310d9ef93409a262168a2078379bb718f8dd8.png)  \n"
   ]
  },
  {
   "cell_type": "markdown",
   "metadata": {},
   "source": [
    "### Sur $x_1$\n",
    "$$f(x_1,x_2)=-a_{12}\\sqrt{x_1(t)-x_2(t)}$$\n",
    "\n",
    "$$\\frac{d\\Delta x_1(t)}{dt}=\\frac{1}{S}\\left(\\Delta u(t)+\\frac{\\partial f}{\\partial x_1}(x_{1eq},x_{2eq})(x_1-x_{1eq}) +\\frac{\\partial f}{\\partial x_2}(x_{1eq},x_{2eq})(x_2-x_{2eq})\\right)$$\n",
    "\n",
    "### Sur $x_2$\n",
    "\n",
    "Voir le formulaire pour la linéarisation, il semblerait que le corrigé du prof soit faux...\n",
    "\n",
    "### Sur $x_3$\n",
    "$$f(x_2,x_3)=a_{23}\\sqrt{x_2-x_3}-a_f\\sqrt{x_3}$$\n",
    "$$\\frac{d\\Delta x_3(t)}{dt}=\\frac{1}{S}\\left(\\frac{\\partial}{\\partial x_2}f(x_{2eq},x_{3eq})(x_2-x_{2eq}+\\frac{\\partial}{\\partial x_2}f(x_{2eq},x_{3eq})(x_2-x_{2eq}\\right)"
   ]
  },
  {
   "cell_type": "markdown",
   "metadata": {},
   "source": [
    "![picture 5](92dd001b854a704317eea5053d84211da79acc9e5f02385ae3344556bfaccc30.png)  \n"
   ]
  },
  {
   "cell_type": "code",
   "execution_count": 84,
   "metadata": {},
   "outputs": [
    {
     "name": "stdout",
     "output_type": "stream",
     "text": [
      "Valeurs propres (pôles en boucle ouverte) : [-0.629879   -0.01797028 -0.20455072]\n"
     ]
    }
   ],
   "source": [
    "A = np.matrix('[-0.2415 0.2415 0;0.2415 -0.4244 0.1566;0 0.1566 -0.1865]')\n",
    "B = np.matrix('[795.7747;0;0]')\n",
    "C = np.matrix('[1 0 0]')\n",
    "\n",
    "print(f\"Valeurs propres (pôles en boucle ouverte) : {np.linalg.eig(A)[0]}\")"
   ]
  },
  {
   "cell_type": "markdown",
   "metadata": {},
   "source": [
    "![picture 6](421399a2e10a43742b0a75109f147bce98e2e15e3eda863ab8aa610aa3fd6fd4.png)  \n"
   ]
  },
  {
   "cell_type": "markdown",
   "metadata": {},
   "source": [
    "$$A-EC$$\n",
    "$$(A-EC)^{T}$$\n",
    "$$A^T-(EC)^T$$\n",
    "$$A^T-C^TE^T$$"
   ]
  },
  {
   "cell_type": "code",
   "execution_count": 87,
   "metadata": {},
   "outputs": [
    {
     "name": "stdout",
     "output_type": "stream",
     "text": [
      "[[ 2.927     ]\n",
      " [11.71572124]\n",
      " [34.62664855]]\n",
      "Valeurs propres de A-EC : [-0.62990369 -0.62989816 -0.62989816]\n"
     ]
    }
   ],
   "source": [
    "# On utilise la méthode de Ackermann A-BK -> A-EC\n",
    "poles = 2*np.array([-0.6299]*3)\n",
    "E = control.acker(A.T, C.T, poles).T\n",
    "print(E)\n",
    "\n",
    "# Vérification\n",
    "print(f\"Valeurs propres de A-EC : 2*{np.real(np.linalg.eig(A-E@C)[0]/2)}\")"
   ]
  },
  {
   "cell_type": "markdown",
   "metadata": {},
   "source": [
    "![picture 7](884bc13de39ba23f840c431265b8ce03e5ceb0ef6628869f4408fa74f5713fed.png)  \n"
   ]
  },
  {
   "cell_type": "code",
   "execution_count": 95,
   "metadata": {},
   "outputs": [
    {
     "name": "stdout",
     "output_type": "stream",
     "text": [
      "K : [[-0.0002796   0.00064703 -0.00013606]]\n",
      "Valeurs propres de A-BK : 1/3*[-0.62990534 -0.62989733 -0.62989733]\n"
     ]
    }
   ],
   "source": [
    "# On veut déterminer K dans A-BK\n",
    "poles = 1/3*np.array([-0.6299]*3)\n",
    "K = control.acker(A, B, poles)\n",
    "\n",
    "print(f\"K : {K}\")\n",
    "\n",
    "print(f\"Valeurs propres de A-BK : 1/3*{np.real(np.linalg.eig(A-B@K)[0]*3)}\")"
   ]
  }
 ],
 "metadata": {
  "interpreter": {
   "hash": "06a6858702f229212a45149ce6c1ba73d7326b5afdeebebe8324a7c067d664c2"
  },
  "kernelspec": {
   "display_name": "Python 3.10.0 64-bit",
   "language": "python",
   "name": "python3"
  },
  "language_info": {
   "codemirror_mode": {
    "name": "ipython",
    "version": 3
   },
   "file_extension": ".py",
   "mimetype": "text/x-python",
   "name": "python",
   "nbconvert_exporter": "python",
   "pygments_lexer": "ipython3",
   "version": "3.10.0"
  },
  "orig_nbformat": 4
 },
 "nbformat": 4,
 "nbformat_minor": 2
}
