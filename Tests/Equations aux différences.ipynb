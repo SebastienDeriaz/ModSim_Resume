{
 "cells": [
  {
   "cell_type": "code",
   "execution_count": 2,
   "metadata": {},
   "outputs": [],
   "source": [
    "import numpy as np\n",
    "import matplotlib.pyplot as plt"
   ]
  },
  {
   "cell_type": "code",
   "execution_count": 12,
   "metadata": {},
   "outputs": [
    {
     "data": {
      "text/plain": [
       "[<matplotlib.lines.Line2D at 0x16e7e7a8ee0>]"
      ]
     },
     "execution_count": 12,
     "metadata": {},
     "output_type": "execute_result"
    },
    {
     "data": {
      "image/png": "[encoded data removed]",
      "text/plain": [
       "<Figure size 432x288 with 1 Axes>"
      ]
     },
     "metadata": {
      "needs_background": "light"
     },
     "output_type": "display_data"
    }
   ],
   "source": [
    "a = 2.12\n",
    "\n",
    "def f1(x):\n",
    "    return np.exp(a*x)\n",
    "\n",
    "def fiter(x):\n",
    "    return (a+1)*x\n",
    "\n",
    "x = np.arange(10)\n",
    "\n",
    "yiter = np.zeros_like(x)\n",
    "yiter[0] = 1\n",
    "for i, xi in enumerate(x[:-1]):\n",
    "    yiter[i+1] = fiter(yiter[i])\n",
    "\n",
    "\n",
    "#plt.plot(x, f1(x))\n",
    "plt.plot(x, yiter)"
   ]
  },
  {
   "cell_type": "code",
   "execution_count": null,
   "metadata": {},
   "outputs": [],
   "source": []
  }
 ],
 "metadata": {
  "interpreter": {
   "hash": "06a6858702f229212a45149ce6c1ba73d7326b5afdeebebe8324a7c067d664c2"
  },
  "kernelspec": {
   "display_name": "Python 3.10.0 64-bit",
   "language": "python",
   "name": "python3"
  },
  "language_info": {
   "codemirror_mode": {
    "name": "ipython",
    "version": 3
   },
   "file_extension": ".py",
   "mimetype": "text/x-python",
   "name": "python",
   "nbconvert_exporter": "python",
   "pygments_lexer": "ipython3",
   "version": "3.10.0"
  },
  "orig_nbformat": 4
 },
 "nbformat": 4,
 "nbformat_minor": 2
}
