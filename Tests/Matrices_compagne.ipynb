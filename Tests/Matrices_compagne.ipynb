{
 "cells": [
  {
   "cell_type": "code",
   "execution_count": 23,
   "metadata": {},
   "outputs": [],
   "source": [
    "import numpy as np\n",
    "import control"
   ]
  },
  {
   "cell_type": "code",
   "execution_count": 40,
   "metadata": {},
   "outputs": [
    {
     "name": "stdout",
     "output_type": "stream",
     "text": [
      "[[0.3144082  0.924563   0.41890814]\n",
      " [0.05678322 0.63841102 0.0937656 ]\n",
      " [0.51524553 0.64574343 0.35365654]]\n"
     ]
    }
   ],
   "source": [
    "np.random.seed(1123)\n",
    "A = np.asmatrix(np.random.random([3,3]))\n",
    "print(A)\n",
    "#b = np.random.random([3,1])\n",
    "b = np.matrix('[0;0;1]')"
   ]
  },
  {
   "cell_type": "code",
   "execution_count": 41,
   "metadata": {},
   "outputs": [
    {
     "name": "stdout",
     "output_type": "stream",
     "text": [
      "[-0.11784065  1.07343823  0.35087818]\n"
     ]
    }
   ],
   "source": [
    "# Eigen values\n",
    "Lambda, _ = np.linalg.eig(A)\n",
    "print(Lambda)"
   ]
  },
  {
   "cell_type": "code",
   "execution_count": 42,
   "metadata": {},
   "outputs": [
    {
     "name": "stdout",
     "output_type": "stream",
     "text": [
      "[[ 0.01388642 -0.11784065  1.        ]\n",
      " [ 1.15226963  1.07343823  1.        ]\n",
      " [ 0.1231155   0.35087818  1.        ]]\n"
     ]
    }
   ],
   "source": [
    "V = np.vander(Lambda)\n",
    "print(V)"
   ]
  },
  {
   "cell_type": "code",
   "execution_count": 43,
   "metadata": {},
   "outputs": [
    {
     "name": "stdout",
     "output_type": "stream",
     "text": [
      "[[-0.33440683  0.42121658  0.26161452]\n",
      " [-3.79997198  0.39649529  4.34047993]\n",
      " [-1.18562836  0.37937198  1.2443873 ]]\n"
     ]
    }
   ],
   "source": [
    "MC = V @ A @ np.linalg.inv(V)\n",
    "print(MC)"
   ]
  },
  {
   "cell_type": "code",
   "execution_count": 46,
   "metadata": {},
   "outputs": [
    {
     "name": "stdout",
     "output_type": "stream",
     "text": [
      "[[ 0.       0.      -0.04438]\n",
      " [ 1.      -0.      -0.2088 ]\n",
      " [ 0.       1.       1.30648]]\n"
     ]
    }
   ],
   "source": [
    "M = np.asmatrix(control.ctrb(A, b))\n",
    "\n",
    "print(np.round(M.I @ A @ M,5))"
   ]
  }
 ],
 "metadata": {
  "interpreter": {
   "hash": "06a6858702f229212a45149ce6c1ba73d7326b5afdeebebe8324a7c067d664c2"
  },
  "kernelspec": {
   "display_name": "Python 3.10.0 64-bit",
   "language": "python",
   "name": "python3"
  },
  "language_info": {
   "codemirror_mode": {
    "name": "ipython",
    "version": 3
   },
   "file_extension": ".py",
   "mimetype": "text/x-python",
   "name": "python",
   "nbconvert_exporter": "python",
   "pygments_lexer": "ipython3",
   "version": "3.10.0"
  },
  "orig_nbformat": 4
 },
 "nbformat": 4,
 "nbformat_minor": 2
}
